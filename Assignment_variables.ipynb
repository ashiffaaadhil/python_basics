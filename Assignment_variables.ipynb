{
  "nbformat": 4,
  "nbformat_minor": 0,
  "metadata": {
    "colab": {
      "provenance": [],
      "authorship_tag": "ABX9TyPA+kXtNodmD4l0HmeSx9Uz",
      "include_colab_link": true
    },
    "kernelspec": {
      "name": "python3",
      "display_name": "Python 3"
    },
    "language_info": {
      "name": "python"
    }
  },
  "cells": [
    {
      "cell_type": "markdown",
      "metadata": {
        "id": "view-in-github",
        "colab_type": "text"
      },
      "source": [
        "<a href=\"https://colab.research.google.com/github/ashiffaaadhil/python_basics/blob/main/Assignment_variables.ipynb\" target=\"_parent\"><img src=\"https://colab.research.google.com/assets/colab-badge.svg\" alt=\"Open In Colab\"/></a>"
      ]
    },
    {
      "cell_type": "code",
      "execution_count": 1,
      "metadata": {
        "colab": {
          "base_uri": "https://localhost:8080/"
        },
        "id": "c3PRXVm9J3Nj",
        "outputId": "fbb26e13-b5a8-4025-9915-d0d65884e6b9"
      },
      "outputs": [
        {
          "output_type": "stream",
          "name": "stdout",
          "text": [
            "Welcome to Assignment-1\n"
          ]
        }
      ],
      "source": [
        "print(\"Welcome to Assignment-1\")"
      ]
    },
    {
      "cell_type": "code",
      "source": [
        "Num1=10\n"
      ],
      "metadata": {
        "id": "l0QNhMEJJ4jO"
      },
      "execution_count": 2,
      "outputs": []
    },
    {
      "cell_type": "code",
      "source": [
        "Num2=30\n"
      ],
      "metadata": {
        "id": "YSBSjZ48KAsH"
      },
      "execution_count": 3,
      "outputs": []
    },
    {
      "cell_type": "code",
      "source": [
        "Add=Num1+Num2"
      ],
      "metadata": {
        "id": "Nzjtl81wKDfC"
      },
      "execution_count": 4,
      "outputs": []
    },
    {
      "cell_type": "code",
      "source": [
        "print(\"Num1= \",Num1)\n",
        "print(\"Num2= \",Num2)\n",
        "print(\"Add= \",Add)"
      ],
      "metadata": {
        "colab": {
          "base_uri": "https://localhost:8080/"
        },
        "id": "1RCBTP0fKFPW",
        "outputId": "47e0a836-355a-43c4-c106-79883848b987"
      },
      "execution_count": 5,
      "outputs": [
        {
          "output_type": "stream",
          "name": "stdout",
          "text": [
            "Num1=  10\n",
            "Num2=  30\n",
            "Add=  40\n"
          ]
        }
      ]
    },
    {
      "cell_type": "code",
      "source": [
        "print(\"Body Mass Index\")\n",
        "bmi=float(input(\"Enter the body mass index value\"))"
      ],
      "metadata": {
        "colab": {
          "base_uri": "https://localhost:8080/"
        },
        "id": "l8uaWEwyKHYU",
        "outputId": "6d60cb7c-0860-4df8-87a8-1dc93177f6c7"
      },
      "execution_count": 6,
      "outputs": [
        {
          "name": "stdout",
          "output_type": "stream",
          "text": [
            "Body Mass Index\n",
            "Enter the body mass index value12.7\n"
          ]
        }
      ]
    },
    {
      "cell_type": "code",
      "source": [
        "if bmi < 18.5:\n",
        "    print(\"Underweight\")\n",
        "elif 18.5 <= bmi < 24.9:\n",
        "    print(\"Normal weight\")\n",
        "elif 25 <= bmi < 29.9:\n",
        "    print(\"Overweight\")\n",
        "else:\n",
        "    print(\"Obesity\")\n"
      ],
      "metadata": {
        "colab": {
          "base_uri": "https://localhost:8080/"
        },
        "id": "LWYECgStKQmh",
        "outputId": "a5b34d58-837e-4bef-cc60-540d87087019"
      },
      "execution_count": 7,
      "outputs": [
        {
          "output_type": "stream",
          "name": "stdout",
          "text": [
            "Underweight\n"
          ]
        }
      ]
    },
    {
      "cell_type": "code",
      "source": [
        "print(\"HOPE AI\")\n"
      ],
      "metadata": {
        "colab": {
          "base_uri": "https://localhost:8080/"
        },
        "id": "8Wo9mnJBKZ7M",
        "outputId": "6e70119b-049c-4e79-c933-8f1924be3901"
      },
      "execution_count": 8,
      "outputs": [
        {
          "output_type": "stream",
          "name": "stdout",
          "text": [
            "HOPE AI\n"
          ]
        }
      ]
    },
    {
      "cell_type": "code",
      "source": [
        "name=input(\"Enter your institute name? :\")\n"
      ],
      "metadata": {
        "colab": {
          "base_uri": "https://localhost:8080/"
        },
        "id": "-dqwQ3PYKusR",
        "outputId": "9add3a50-40ed-4edd-f25b-b2983c71d424"
      },
      "execution_count": 9,
      "outputs": [
        {
          "name": "stdout",
          "output_type": "stream",
          "text": [
            "Enter your institute name? :ashiffa\n"
          ]
        }
      ]
    },
    {
      "cell_type": "code",
      "source": [
        "print(name)\n"
      ],
      "metadata": {
        "colab": {
          "base_uri": "https://localhost:8080/"
        },
        "id": "jziBypXmK1cY",
        "outputId": "9b4948bf-69f6-46fc-ed68-4a7830c69b09"
      },
      "execution_count": 10,
      "outputs": [
        {
          "output_type": "stream",
          "name": "stdout",
          "text": [
            "ashiffa\n"
          ]
        }
      ]
    },
    {
      "cell_type": "code",
      "source": [
        "myname=input(\"Enter your name? :\")\n",
        "age=input(\"Enter your age? :\")\n",
        "school_name=input(\"Enter your school name? :\")\n",
        "degree=input(\"Enter your degree? :\")"
      ],
      "metadata": {
        "colab": {
          "base_uri": "https://localhost:8080/"
        },
        "id": "t4AFqG2iK6M7",
        "outputId": "bd837f53-043a-4122-b76e-bbc47a1429de"
      },
      "execution_count": 11,
      "outputs": [
        {
          "name": "stdout",
          "output_type": "stream",
          "text": [
            "Enter your name? :ashi\n",
            "Enter your age? :34\n",
            "Enter your school name? :srv\n",
            "Enter your degree? :be\n"
          ]
        }
      ]
    },
    {
      "cell_type": "code",
      "source": [
        "print(myname)\n",
        "print(age)\n",
        "print(school_name)\n",
        "print(degree)"
      ],
      "metadata": {
        "colab": {
          "base_uri": "https://localhost:8080/"
        },
        "id": "L_dt7NOzLMr8",
        "outputId": "9f3636c2-31c7-486e-9ecb-3f61b66fc351"
      },
      "execution_count": 12,
      "outputs": [
        {
          "output_type": "stream",
          "name": "stdout",
          "text": [
            "ashi\n",
            "34\n",
            "srv\n",
            "be\n"
          ]
        }
      ]
    },
    {
      "cell_type": "code",
      "source": [
        "Num1=float(input(\"Enter your number 1? :\"))\n",
        "Num2=float(input(\"Enter your number 2? :\"))\n",
        "Add=Num1+Num2\n",
        "print(\"Num1= \",Num1)\n",
        "print(\"Num2= \",Num2)\n",
        "print(\"Add= \",Add)"
      ],
      "metadata": {
        "colab": {
          "base_uri": "https://localhost:8080/"
        },
        "id": "MU7hG2t0LThF",
        "outputId": "9b558888-f93c-427a-aa87-eb4cc46a1737"
      },
      "execution_count": 13,
      "outputs": [
        {
          "output_type": "stream",
          "name": "stdout",
          "text": [
            "Enter your number 1? :32.4\n",
            "Enter your number 2? :67\n",
            "Num1=  32.4\n",
            "Num2=  67.0\n",
            "Add=  99.4\n"
          ]
        }
      ]
    },
    {
      "cell_type": "code",
      "source": [
        "Num1=int(input(\"Enter your number 1? :\"))\n",
        "Num2=int(input(\"Enter your number 2? :\"))\n",
        "Sub=Num1-Num2\n",
        "print(\"Num1= \",Num1)\n",
        "print(\"Num2= \",Num2)\n",
        "print(\"Sub= \",Sub)"
      ],
      "metadata": {
        "colab": {
          "base_uri": "https://localhost:8080/"
        },
        "id": "qrX2JFMELwhI",
        "outputId": "bdf14d7d-b719-420b-d79e-990aeea9780f"
      },
      "execution_count": 14,
      "outputs": [
        {
          "output_type": "stream",
          "name": "stdout",
          "text": [
            "Enter your number 1? :45\n",
            "Enter your number 2? :78\n",
            "Num1=  45\n",
            "Num2=  78\n",
            "Sub=  -33\n"
          ]
        }
      ]
    },
    {
      "cell_type": "code",
      "source": [
        "Num1=int(input(\"Enter your number 1? :\"))\n",
        "Num2=int(input(\"Enter your number 2? :\"))\n",
        "Mul=Num1*Num2\n",
        "print(\"Num1= \",Num1)\n",
        "print(\"Num2= \",Num2)\n",
        "print(\"Mul= \",Mul)"
      ],
      "metadata": {
        "colab": {
          "base_uri": "https://localhost:8080/"
        },
        "id": "cUse3OdxL320",
        "outputId": "7c67a99a-60cb-4fae-cf83-2d5483dbff4a"
      },
      "execution_count": 15,
      "outputs": [
        {
          "output_type": "stream",
          "name": "stdout",
          "text": [
            "Enter your number 1? :5\n",
            "Enter your number 2? :6\n",
            "Num1=  5\n",
            "Num2=  6\n",
            "Mul=  30\n"
          ]
        }
      ]
    },
    {
      "cell_type": "code",
      "source": [
        "Num1=int(input(\"Enter your number 1? :\"))\n",
        "Num2=int(input(\"Enter your number 2? :\"))\n",
        "Div=Num1/Num2\n",
        "print(\"Num1= \",Num1)\n",
        "print(\"Num2= \",Num2)\n",
        "print(\"Div= \",Div)\n"
      ],
      "metadata": {
        "colab": {
          "base_uri": "https://localhost:8080/"
        },
        "id": "suozst13L_g7",
        "outputId": "6de9de1e-d2c7-4bfa-85de-f284806986a1"
      },
      "execution_count": 16,
      "outputs": [
        {
          "output_type": "stream",
          "name": "stdout",
          "text": [
            "Enter your number 1? :56\n",
            "Enter your number 2? :6\n",
            "Num1=  56\n",
            "Num2=  6\n",
            "Div=  9.333333333333334\n"
          ]
        }
      ]
    },
    {
      "cell_type": "code",
      "source": [
        "Num1=int(input(\"Enter your number 1? :\"))\n",
        "Num2=int(input(\"Enter your number 2? :\"))\n",
        "floordiv=Num1//Num2\n",
        "print(\"Num1= \",Num1)\n",
        "print(\"Num2= \",Num2)\n",
        "print(\"floor div= \",floordiv)"
      ],
      "metadata": {
        "colab": {
          "base_uri": "https://localhost:8080/"
        },
        "id": "mBG6e2XuMFxq",
        "outputId": "e318f2a7-b45c-4f18-aa53-4a8b3cdbec3b"
      },
      "execution_count": 17,
      "outputs": [
        {
          "output_type": "stream",
          "name": "stdout",
          "text": [
            "Enter your number 1? :56\n",
            "Enter your number 2? :6\n",
            "Num1=  56\n",
            "Num2=  6\n",
            "floor div=  9\n"
          ]
        }
      ]
    },
    {
      "cell_type": "code",
      "source": [
        "Num1=int(input(\"Enter your number 1? :\"))\n",
        "Num2=int(input(\"Enter your number 2? :\"))\n",
        "mod=Num1%Num2\n",
        "print(\"Num1= \",Num1)\n",
        "print(\"Num2= \",Num2)\n",
        "print(\"modulus= \",mod)"
      ],
      "metadata": {
        "colab": {
          "base_uri": "https://localhost:8080/"
        },
        "id": "jH90i6x1MOVE",
        "outputId": "3af6aab5-a8be-46e5-f631-9e69f56e9418"
      },
      "execution_count": 18,
      "outputs": [
        {
          "output_type": "stream",
          "name": "stdout",
          "text": [
            "Enter your number 1? :5\n",
            "Enter your number 2? :2\n",
            "Num1=  5\n",
            "Num2=  2\n",
            "modulus=  1\n"
          ]
        }
      ]
    },
    {
      "cell_type": "code",
      "source": [
        "Num1=int(input(\"Enter your base? :\"))\n",
        "Num2=int(input(\"Enter your power? :\"))\n",
        "powerval=Num1**Num2\n",
        "print(\"Num1= \",Num1)\n",
        "print(\"Num2= \",Num2)\n",
        "print(\"power val= \",powerval)\n"
      ],
      "metadata": {
        "colab": {
          "base_uri": "https://localhost:8080/"
        },
        "id": "VJBGOefiMV6l",
        "outputId": "742ae41e-2e3f-40ea-c5d3-2d9e328f210e"
      },
      "execution_count": 19,
      "outputs": [
        {
          "output_type": "stream",
          "name": "stdout",
          "text": [
            "Enter your base? :3\n",
            "Enter your power? :4\n",
            "Num1=  3\n",
            "Num2=  4\n",
            "power val=  81\n"
          ]
        }
      ]
    },
    {
      "cell_type": "code",
      "source": [
        "for x in range(0,20):\n",
        "    print(x)"
      ],
      "metadata": {
        "colab": {
          "base_uri": "https://localhost:8080/"
        },
        "id": "kR036YdOMdP9",
        "outputId": "6f6a121b-26bf-4620-bad3-6335835be245"
      },
      "execution_count": 20,
      "outputs": [
        {
          "output_type": "stream",
          "name": "stdout",
          "text": [
            "0\n",
            "1\n",
            "2\n",
            "3\n",
            "4\n",
            "5\n",
            "6\n",
            "7\n",
            "8\n",
            "9\n",
            "10\n",
            "11\n",
            "12\n",
            "13\n",
            "14\n",
            "15\n",
            "16\n",
            "17\n",
            "18\n",
            "19\n"
          ]
        }
      ]
    },
    {
      "cell_type": "code",
      "source": [
        "for x in range(10,21):\n",
        "    print(x)"
      ],
      "metadata": {
        "colab": {
          "base_uri": "https://localhost:8080/"
        },
        "id": "VvtUMHx7MlGc",
        "outputId": "94eb1410-85d6-46e8-d11a-6a6a80d1cf36"
      },
      "execution_count": 21,
      "outputs": [
        {
          "output_type": "stream",
          "name": "stdout",
          "text": [
            "10\n",
            "11\n",
            "12\n",
            "13\n",
            "14\n",
            "15\n",
            "16\n",
            "17\n",
            "18\n",
            "19\n",
            "20\n"
          ]
        }
      ]
    },
    {
      "cell_type": "code",
      "source": [
        "for x in range(10,21,5):\n",
        "    print(x)"
      ],
      "metadata": {
        "colab": {
          "base_uri": "https://localhost:8080/"
        },
        "id": "qchxVJZ1MrLN",
        "outputId": "e203e00e-3e93-4b36-da6b-d4f650fdbd1b"
      },
      "execution_count": 22,
      "outputs": [
        {
          "output_type": "stream",
          "name": "stdout",
          "text": [
            "10\n",
            "15\n",
            "20\n"
          ]
        }
      ]
    },
    {
      "cell_type": "code",
      "source": [
        "list_num=[1,2,3,4,5,7,6,0,9,8,7,12]\n",
        "print(len(list_num))"
      ],
      "metadata": {
        "colab": {
          "base_uri": "https://localhost:8080/"
        },
        "id": "_x6Y09LPMvFp",
        "outputId": "a96b6b88-88b7-4d6d-e5c8-ddad6bf09349"
      },
      "execution_count": 23,
      "outputs": [
        {
          "output_type": "stream",
          "name": "stdout",
          "text": [
            "12\n"
          ]
        }
      ]
    },
    {
      "cell_type": "code",
      "source": [
        "title=\"artifitial intelligense\"\n",
        "for x in title:\n",
        "    print(x)"
      ],
      "metadata": {
        "colab": {
          "base_uri": "https://localhost:8080/"
        },
        "id": "pNBrEPVWM1C8",
        "outputId": "ee42ecff-1db5-4a4b-a3db-b424623e2f17"
      },
      "execution_count": 24,
      "outputs": [
        {
          "output_type": "stream",
          "name": "stdout",
          "text": [
            "a\n",
            "r\n",
            "t\n",
            "i\n",
            "f\n",
            "i\n",
            "t\n",
            "i\n",
            "a\n",
            "l\n",
            " \n",
            "i\n",
            "n\n",
            "t\n",
            "e\n",
            "l\n",
            "l\n",
            "i\n",
            "g\n",
            "e\n",
            "n\n",
            "s\n",
            "e\n"
          ]
        }
      ]
    },
    {
      "cell_type": "code",
      "source": [
        "list_num=[1,2,3,4,5,6,7,8,9,0,100,99,87,83,88]\n",
        "for x in list_num:\n",
        "    if x%2==0:\n",
        "        print(x,\"is even\")\n",
        "    else:\n",
        "        print(x,\" is odd\")"
      ],
      "metadata": {
        "colab": {
          "base_uri": "https://localhost:8080/"
        },
        "id": "ZNDrilKIM5Pl",
        "outputId": "05bd4fd2-3095-45db-b3a7-1f027430173d"
      },
      "execution_count": 25,
      "outputs": [
        {
          "output_type": "stream",
          "name": "stdout",
          "text": [
            "1  is odd\n",
            "2 is even\n",
            "3  is odd\n",
            "4 is even\n",
            "5  is odd\n",
            "6 is even\n",
            "7  is odd\n",
            "8 is even\n",
            "9  is odd\n",
            "0 is even\n",
            "100 is even\n",
            "99  is odd\n",
            "87  is odd\n",
            "83  is odd\n",
            "88 is even\n"
          ]
        }
      ]
    },
    {
      "cell_type": "code",
      "source": [
        "i=int(input(\"enter the number \"))\n",
        "if i==10:\n",
        "    print(\"correct\")\n",
        "else:\n",
        "    print(\"in correct\")"
      ],
      "metadata": {
        "colab": {
          "base_uri": "https://localhost:8080/"
        },
        "id": "DsFa2DGSM-5x",
        "outputId": "1fb28adc-ce3d-43f3-f375-eb7560ed69fa"
      },
      "execution_count": 26,
      "outputs": [
        {
          "output_type": "stream",
          "name": "stdout",
          "text": [
            "enter the number 4\n",
            "in correct\n"
          ]
        }
      ]
    },
    {
      "cell_type": "code",
      "source": [
        "\n"
      ],
      "metadata": {
        "id": "_QNJ_OaXNFcD"
      },
      "execution_count": null,
      "outputs": []
    }
  ]
}