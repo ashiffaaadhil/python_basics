{
  "nbformat": 4,
  "nbformat_minor": 0,
  "metadata": {
    "colab": {
      "provenance": [],
      "authorship_tag": "ABX9TyOAa5G1PA3T1UTgK6JaMm1o",
      "include_colab_link": true
    },
    "kernelspec": {
      "name": "python3",
      "display_name": "Python 3"
    },
    "language_info": {
      "name": "python"
    }
  },
  "cells": [
    {
      "cell_type": "markdown",
      "metadata": {
        "id": "view-in-github",
        "colab_type": "text"
      },
      "source": [
        "<a href=\"https://colab.research.google.com/github/ashiffaaadhil/python_basics/blob/main/Assignment_variables.ipynb\" target=\"_parent\"><img src=\"https://colab.research.google.com/assets/colab-badge.svg\" alt=\"Open In Colab\"/></a>"
      ]
    },
    {
      "cell_type": "code",
      "execution_count": null,
      "metadata": {
        "colab": {
          "base_uri": "https://localhost:8080/"
        },
        "id": "c3PRXVm9J3Nj",
        "outputId": "fbb26e13-b5a8-4025-9915-d0d65884e6b9"
      },
      "outputs": [
        {
          "output_type": "stream",
          "name": "stdout",
          "text": [
            "Welcome to Assignment-1\n"
          ]
        }
      ],
      "source": [
        "print(\"Welcome to Assignment-1\")"
      ]
    },
    {
      "cell_type": "code",
      "source": [
        "Num1=10\n"
      ],
      "metadata": {
        "id": "l0QNhMEJJ4jO"
      },
      "execution_count": null,
      "outputs": []
    },
    {
      "cell_type": "code",
      "source": [
        "Num2=30\n"
      ],
      "metadata": {
        "id": "YSBSjZ48KAsH"
      },
      "execution_count": null,
      "outputs": []
    },
    {
      "cell_type": "code",
      "source": [
        "Add=Num1+Num2"
      ],
      "metadata": {
        "id": "Nzjtl81wKDfC"
      },
      "execution_count": null,
      "outputs": []
    },
    {
      "cell_type": "code",
      "source": [
        "print(\"Num1= \",Num1)\n",
        "print(\"Num2= \",Num2)\n",
        "print(\"Add= \",Add)"
      ],
      "metadata": {
        "colab": {
          "base_uri": "https://localhost:8080/"
        },
        "id": "1RCBTP0fKFPW",
        "outputId": "47e0a836-355a-43c4-c106-79883848b987"
      },
      "execution_count": null,
      "outputs": [
        {
          "output_type": "stream",
          "name": "stdout",
          "text": [
            "Num1=  10\n",
            "Num2=  30\n",
            "Add=  40\n"
          ]
        }
      ]
    },
    {
      "cell_type": "code",
      "source": [
        "print(\"Body Mass Index\")\n",
        "bmi=float(input(\"Enter the body mass index value\"))"
      ],
      "metadata": {
        "colab": {
          "base_uri": "https://localhost:8080/"
        },
        "id": "l8uaWEwyKHYU",
        "outputId": "6d60cb7c-0860-4df8-87a8-1dc93177f6c7"
      },
      "execution_count": null,
      "outputs": [
        {
          "name": "stdout",
          "output_type": "stream",
          "text": [
            "Body Mass Index\n",
            "Enter the body mass index value12.7\n"
          ]
        }
      ]
    },
    {
      "cell_type": "code",
      "source": [
        "if bmi < 18.5:\n",
        "    print(\"Underweight\")\n",
        "elif 18.5 <= bmi < 24.9:\n",
        "    print(\"Normal weight\")\n",
        "elif 25 <= bmi < 29.9:\n",
        "    print(\"Overweight\")\n",
        "else:\n",
        "    print(\"Obesity\")\n"
      ],
      "metadata": {
        "colab": {
          "base_uri": "https://localhost:8080/"
        },
        "id": "LWYECgStKQmh",
        "outputId": "a5b34d58-837e-4bef-cc60-540d87087019"
      },
      "execution_count": null,
      "outputs": [
        {
          "output_type": "stream",
          "name": "stdout",
          "text": [
            "Underweight\n"
          ]
        }
      ]
    },
    {
      "cell_type": "code",
      "source": [
        "print(\"HOPE AI\")\n"
      ],
      "metadata": {
        "colab": {
          "base_uri": "https://localhost:8080/"
        },
        "id": "8Wo9mnJBKZ7M",
        "outputId": "6e70119b-049c-4e79-c933-8f1924be3901"
      },
      "execution_count": null,
      "outputs": [
        {
          "output_type": "stream",
          "name": "stdout",
          "text": [
            "HOPE AI\n"
          ]
        }
      ]
    },
    {
      "cell_type": "code",
      "source": [
        "name=input(\"Enter your institute name? :\")\n"
      ],
      "metadata": {
        "colab": {
          "base_uri": "https://localhost:8080/"
        },
        "id": "-dqwQ3PYKusR",
        "outputId": "9add3a50-40ed-4edd-f25b-b2983c71d424"
      },
      "execution_count": null,
      "outputs": [
        {
          "name": "stdout",
          "output_type": "stream",
          "text": [
            "Enter your institute name? :ashiffa\n"
          ]
        }
      ]
    },
    {
      "cell_type": "code",
      "source": [
        "print(name)\n"
      ],
      "metadata": {
        "colab": {
          "base_uri": "https://localhost:8080/"
        },
        "id": "jziBypXmK1cY",
        "outputId": "9b4948bf-69f6-46fc-ed68-4a7830c69b09"
      },
      "execution_count": null,
      "outputs": [
        {
          "output_type": "stream",
          "name": "stdout",
          "text": [
            "ashiffa\n"
          ]
        }
      ]
    },
    {
      "cell_type": "code",
      "source": [
        "myname=input(\"Enter your name? :\")\n",
        "age=input(\"Enter your age? :\")\n",
        "school_name=input(\"Enter your school name? :\")\n",
        "degree=input(\"Enter your degree? :\")"
      ],
      "metadata": {
        "colab": {
          "base_uri": "https://localhost:8080/"
        },
        "id": "t4AFqG2iK6M7",
        "outputId": "bd837f53-043a-4122-b76e-bbc47a1429de"
      },
      "execution_count": null,
      "outputs": [
        {
          "name": "stdout",
          "output_type": "stream",
          "text": [
            "Enter your name? :ashi\n",
            "Enter your age? :34\n",
            "Enter your school name? :srv\n",
            "Enter your degree? :be\n"
          ]
        }
      ]
    },
    {
      "cell_type": "code",
      "source": [
        "print(myname)\n",
        "print(age)\n",
        "print(school_name)\n",
        "print(degree)"
      ],
      "metadata": {
        "colab": {
          "base_uri": "https://localhost:8080/"
        },
        "id": "L_dt7NOzLMr8",
        "outputId": "9f3636c2-31c7-486e-9ecb-3f61b66fc351"
      },
      "execution_count": null,
      "outputs": [
        {
          "output_type": "stream",
          "name": "stdout",
          "text": [
            "ashi\n",
            "34\n",
            "srv\n",
            "be\n"
          ]
        }
      ]
    },
    {
      "cell_type": "code",
      "source": [
        "Num1=float(input(\"Enter your number 1? :\"))\n",
        "Num2=float(input(\"Enter your number 2? :\"))\n",
        "Add=Num1+Num2\n",
        "print(\"Num1= \",Num1)\n",
        "print(\"Num2= \",Num2)\n",
        "print(\"Add= \",Add)"
      ],
      "metadata": {
        "colab": {
          "base_uri": "https://localhost:8080/"
        },
        "id": "MU7hG2t0LThF",
        "outputId": "9b558888-f93c-427a-aa87-eb4cc46a1737"
      },
      "execution_count": null,
      "outputs": [
        {
          "output_type": "stream",
          "name": "stdout",
          "text": [
            "Enter your number 1? :32.4\n",
            "Enter your number 2? :67\n",
            "Num1=  32.4\n",
            "Num2=  67.0\n",
            "Add=  99.4\n"
          ]
        }
      ]
    },
    {
      "cell_type": "code",
      "source": [
        "Num1=int(input(\"Enter your number 1? :\"))\n",
        "Num2=int(input(\"Enter your number 2? :\"))\n",
        "Sub=Num1-Num2\n",
        "print(\"Num1= \",Num1)\n",
        "print(\"Num2= \",Num2)\n",
        "print(\"Sub= \",Sub)"
      ],
      "metadata": {
        "colab": {
          "base_uri": "https://localhost:8080/"
        },
        "id": "qrX2JFMELwhI",
        "outputId": "bdf14d7d-b719-420b-d79e-990aeea9780f"
      },
      "execution_count": null,
      "outputs": [
        {
          "output_type": "stream",
          "name": "stdout",
          "text": [
            "Enter your number 1? :45\n",
            "Enter your number 2? :78\n",
            "Num1=  45\n",
            "Num2=  78\n",
            "Sub=  -33\n"
          ]
        }
      ]
    },
    {
      "cell_type": "code",
      "source": [
        "Num1=int(input(\"Enter your number 1? :\"))\n",
        "Num2=int(input(\"Enter your number 2? :\"))\n",
        "Mul=Num1*Num2\n",
        "print(\"Num1= \",Num1)\n",
        "print(\"Num2= \",Num2)\n",
        "print(\"Mul= \",Mul)"
      ],
      "metadata": {
        "colab": {
          "base_uri": "https://localhost:8080/"
        },
        "id": "cUse3OdxL320",
        "outputId": "7c67a99a-60cb-4fae-cf83-2d5483dbff4a"
      },
      "execution_count": null,
      "outputs": [
        {
          "output_type": "stream",
          "name": "stdout",
          "text": [
            "Enter your number 1? :5\n",
            "Enter your number 2? :6\n",
            "Num1=  5\n",
            "Num2=  6\n",
            "Mul=  30\n"
          ]
        }
      ]
    },
    {
      "cell_type": "code",
      "source": [
        "Num1=int(input(\"Enter your number 1? :\"))\n",
        "Num2=int(input(\"Enter your number 2? :\"))\n",
        "Div=Num1/Num2\n",
        "print(\"Num1= \",Num1)\n",
        "print(\"Num2= \",Num2)\n",
        "print(\"Div= \",Div)\n"
      ],
      "metadata": {
        "colab": {
          "base_uri": "https://localhost:8080/"
        },
        "id": "suozst13L_g7",
        "outputId": "6de9de1e-d2c7-4bfa-85de-f284806986a1"
      },
      "execution_count": null,
      "outputs": [
        {
          "output_type": "stream",
          "name": "stdout",
          "text": [
            "Enter your number 1? :56\n",
            "Enter your number 2? :6\n",
            "Num1=  56\n",
            "Num2=  6\n",
            "Div=  9.333333333333334\n"
          ]
        }
      ]
    },
    {
      "cell_type": "code",
      "source": [
        "Num1=int(input(\"Enter your number 1? :\"))\n",
        "Num2=int(input(\"Enter your number 2? :\"))\n",
        "floordiv=Num1//Num2\n",
        "print(\"Num1= \",Num1)\n",
        "print(\"Num2= \",Num2)\n",
        "print(\"floor div= \",floordiv)"
      ],
      "metadata": {
        "colab": {
          "base_uri": "https://localhost:8080/"
        },
        "id": "mBG6e2XuMFxq",
        "outputId": "e318f2a7-b45c-4f18-aa53-4a8b3cdbec3b"
      },
      "execution_count": null,
      "outputs": [
        {
          "output_type": "stream",
          "name": "stdout",
          "text": [
            "Enter your number 1? :56\n",
            "Enter your number 2? :6\n",
            "Num1=  56\n",
            "Num2=  6\n",
            "floor div=  9\n"
          ]
        }
      ]
    },
    {
      "cell_type": "code",
      "source": [
        "Num1=int(input(\"Enter your number 1? :\"))\n",
        "Num2=int(input(\"Enter your number 2? :\"))\n",
        "mod=Num1%Num2\n",
        "print(\"Num1= \",Num1)\n",
        "print(\"Num2= \",Num2)\n",
        "print(\"modulus= \",mod)"
      ],
      "metadata": {
        "colab": {
          "base_uri": "https://localhost:8080/"
        },
        "id": "jH90i6x1MOVE",
        "outputId": "3af6aab5-a8be-46e5-f631-9e69f56e9418"
      },
      "execution_count": null,
      "outputs": [
        {
          "output_type": "stream",
          "name": "stdout",
          "text": [
            "Enter your number 1? :5\n",
            "Enter your number 2? :2\n",
            "Num1=  5\n",
            "Num2=  2\n",
            "modulus=  1\n"
          ]
        }
      ]
    },
    {
      "cell_type": "code",
      "source": [
        "Num1=int(input(\"Enter your base? :\"))\n",
        "Num2=int(input(\"Enter your power? :\"))\n",
        "powerval=Num1**Num2\n",
        "print(\"Num1= \",Num1)\n",
        "print(\"Num2= \",Num2)\n",
        "print(\"power val= \",powerval)\n"
      ],
      "metadata": {
        "colab": {
          "base_uri": "https://localhost:8080/"
        },
        "id": "VJBGOefiMV6l",
        "outputId": "742ae41e-2e3f-40ea-c5d3-2d9e328f210e"
      },
      "execution_count": null,
      "outputs": [
        {
          "output_type": "stream",
          "name": "stdout",
          "text": [
            "Enter your base? :3\n",
            "Enter your power? :4\n",
            "Num1=  3\n",
            "Num2=  4\n",
            "power val=  81\n"
          ]
        }
      ]
    },
    {
      "cell_type": "code",
      "source": [
        "for x in range(0,20):\n",
        "    print(x)"
      ],
      "metadata": {
        "colab": {
          "base_uri": "https://localhost:8080/"
        },
        "id": "kR036YdOMdP9",
        "outputId": "6f6a121b-26bf-4620-bad3-6335835be245"
      },
      "execution_count": null,
      "outputs": [
        {
          "output_type": "stream",
          "name": "stdout",
          "text": [
            "0\n",
            "1\n",
            "2\n",
            "3\n",
            "4\n",
            "5\n",
            "6\n",
            "7\n",
            "8\n",
            "9\n",
            "10\n",
            "11\n",
            "12\n",
            "13\n",
            "14\n",
            "15\n",
            "16\n",
            "17\n",
            "18\n",
            "19\n"
          ]
        }
      ]
    },
    {
      "cell_type": "code",
      "source": [
        "for x in range(10,21):\n",
        "    print(x)"
      ],
      "metadata": {
        "colab": {
          "base_uri": "https://localhost:8080/"
        },
        "id": "VvtUMHx7MlGc",
        "outputId": "94eb1410-85d6-46e8-d11a-6a6a80d1cf36"
      },
      "execution_count": null,
      "outputs": [
        {
          "output_type": "stream",
          "name": "stdout",
          "text": [
            "10\n",
            "11\n",
            "12\n",
            "13\n",
            "14\n",
            "15\n",
            "16\n",
            "17\n",
            "18\n",
            "19\n",
            "20\n"
          ]
        }
      ]
    },
    {
      "cell_type": "code",
      "source": [
        "for x in range(10,21,5):\n",
        "    print(x)"
      ],
      "metadata": {
        "colab": {
          "base_uri": "https://localhost:8080/"
        },
        "id": "qchxVJZ1MrLN",
        "outputId": "e203e00e-3e93-4b36-da6b-d4f650fdbd1b"
      },
      "execution_count": null,
      "outputs": [
        {
          "output_type": "stream",
          "name": "stdout",
          "text": [
            "10\n",
            "15\n",
            "20\n"
          ]
        }
      ]
    },
    {
      "cell_type": "code",
      "source": [
        "list_num=[1,2,3,4,5,7,6,0,9,8,7,12]\n",
        "print(len(list_num))"
      ],
      "metadata": {
        "colab": {
          "base_uri": "https://localhost:8080/"
        },
        "id": "_x6Y09LPMvFp",
        "outputId": "a96b6b88-88b7-4d6d-e5c8-ddad6bf09349"
      },
      "execution_count": null,
      "outputs": [
        {
          "output_type": "stream",
          "name": "stdout",
          "text": [
            "12\n"
          ]
        }
      ]
    },
    {
      "cell_type": "code",
      "source": [
        "title=\"artifitial intelligense\"\n",
        "for x in title:\n",
        "    print(x)"
      ],
      "metadata": {
        "colab": {
          "base_uri": "https://localhost:8080/"
        },
        "id": "pNBrEPVWM1C8",
        "outputId": "ee42ecff-1db5-4a4b-a3db-b424623e2f17"
      },
      "execution_count": null,
      "outputs": [
        {
          "output_type": "stream",
          "name": "stdout",
          "text": [
            "a\n",
            "r\n",
            "t\n",
            "i\n",
            "f\n",
            "i\n",
            "t\n",
            "i\n",
            "a\n",
            "l\n",
            " \n",
            "i\n",
            "n\n",
            "t\n",
            "e\n",
            "l\n",
            "l\n",
            "i\n",
            "g\n",
            "e\n",
            "n\n",
            "s\n",
            "e\n"
          ]
        }
      ]
    },
    {
      "cell_type": "code",
      "source": [
        "list_num=[1,2,3,4,5,6,7,8,9,0,100,99,87,83,88]\n",
        "for x in list_num:\n",
        "    if x%2==0:\n",
        "        print(x,\"is even\")\n",
        "    else:\n",
        "        print(x,\" is odd\")"
      ],
      "metadata": {
        "colab": {
          "base_uri": "https://localhost:8080/"
        },
        "id": "ZNDrilKIM5Pl",
        "outputId": "05bd4fd2-3095-45db-b3a7-1f027430173d"
      },
      "execution_count": null,
      "outputs": [
        {
          "output_type": "stream",
          "name": "stdout",
          "text": [
            "1  is odd\n",
            "2 is even\n",
            "3  is odd\n",
            "4 is even\n",
            "5  is odd\n",
            "6 is even\n",
            "7  is odd\n",
            "8 is even\n",
            "9  is odd\n",
            "0 is even\n",
            "100 is even\n",
            "99  is odd\n",
            "87  is odd\n",
            "83  is odd\n",
            "88 is even\n"
          ]
        }
      ]
    },
    {
      "cell_type": "code",
      "source": [
        "i=int(input(\"enter the number \"))\n",
        "if i==10:\n",
        "    print(\"correct\")\n",
        "else:\n",
        "    print(\"in correct\")"
      ],
      "metadata": {
        "colab": {
          "base_uri": "https://localhost:8080/"
        },
        "id": "DsFa2DGSM-5x",
        "outputId": "1fb28adc-ce3d-43f3-f375-eb7560ed69fa"
      },
      "execution_count": null,
      "outputs": [
        {
          "output_type": "stream",
          "name": "stdout",
          "text": [
            "enter the number 4\n",
            "in correct\n"
          ]
        }
      ]
    },
    {
      "cell_type": "code",
      "source": [
        "password=input(\"enter password:\")\n",
        "if password==\"Abc123%\":\n",
        "    print(\"your password is correct\")\n",
        "else:\n",
        "    print(\"your password is incorrect\")\n"
      ],
      "metadata": {
        "colab": {
          "base_uri": "https://localhost:8080/"
        },
        "id": "_QNJ_OaXNFcD",
        "outputId": "0cf892e6-5d42-4126-d9d0-fe820fbf188d"
      },
      "execution_count": null,
      "outputs": [
        {
          "output_type": "stream",
          "name": "stdout",
          "text": [
            "enter password:erf45\n",
            "your password is incorrect\n"
          ]
        }
      ]
    },
    {
      "cell_type": "code",
      "source": [
        "age=int(input(\"enter your age:\"))\n",
        "if age<6:\n",
        "    print(\"child\")\n",
        "elif 6<age<20:\n",
        "    print(\"Adult\")\n",
        "elif 21<age<60:\n",
        "    print(\"Citizen\")\n",
        "elif 60<age<120:\n",
        "    print(\"Senior citizen\")\n",
        "else:\n",
        "    print(\"invalid age\")"
      ],
      "metadata": {
        "colab": {
          "base_uri": "https://localhost:8080/"
        },
        "id": "bGjn82iTQi-l",
        "outputId": "bd6aedd4-d82b-445d-e19c-512b702b3f93"
      },
      "execution_count": null,
      "outputs": [
        {
          "output_type": "stream",
          "name": "stdout",
          "text": [
            "enter your age:56\n",
            "Citizen\n"
          ]
        }
      ]
    },
    {
      "cell_type": "code",
      "source": [
        "num=int(input(\"enter your number:\"))\n",
        "if num<=0:\n",
        "    print(\"negative number\")\n",
        "else:\n",
        "    print(\"positive number\")"
      ],
      "metadata": {
        "colab": {
          "base_uri": "https://localhost:8080/"
        },
        "id": "s0IoMUAXQpTZ",
        "outputId": "3d2deb45-2ed5-43ca-c6f4-931c39cb487a"
      },
      "execution_count": null,
      "outputs": [
        {
          "output_type": "stream",
          "name": "stdout",
          "text": [
            "enter your number:54\n",
            "positive number\n"
          ]
        }
      ]
    },
    {
      "cell_type": "code",
      "source": [
        "num=int(input(\"enter your number:\"))\n",
        "if num%5==0:\n",
        "    print(\"The number is divide by 5\")\n",
        "else:\n",
        "    print(\"The number is not divide by 5\")"
      ],
      "metadata": {
        "colab": {
          "base_uri": "https://localhost:8080/"
        },
        "id": "kWNHzms1Qwp5",
        "outputId": "3a1e21c6-2d91-4e69-d912-7ebf131fd91b"
      },
      "execution_count": null,
      "outputs": [
        {
          "output_type": "stream",
          "name": "stdout",
          "text": [
            "enter your number:45\n",
            "The number is divide by 5\n"
          ]
        }
      ]
    },
    {
      "cell_type": "code",
      "source": [
        "def Subfields():\n",
        "    print(\"Sub-fields in AI are:\")\n",
        "    list=[\"machine learning\",\"neural networks\",\"vision\",\"robotics\",\"speech processing\",\"natural language processing\"]\n",
        "    for x in list:\n",
        "        print(x)\n",
        "Subfields()"
      ],
      "metadata": {
        "colab": {
          "base_uri": "https://localhost:8080/"
        },
        "id": "ro7aWCBfQ1PH",
        "outputId": "5a8dd171-f062-4d7b-f3ce-ba22bbd159d2"
      },
      "execution_count": null,
      "outputs": [
        {
          "output_type": "stream",
          "name": "stdout",
          "text": [
            "Sub-fields in AI are:\n",
            "machine learning\n",
            "neural networks\n",
            "vision\n",
            "robotics\n",
            "speech processing\n",
            "natural language processing\n"
          ]
        }
      ]
    },
    {
      "cell_type": "code",
      "source": [
        "def OddEven():\n",
        "    num=int(input(\"enter your number:\"))\n",
        "    if num%2==0:\n",
        "        print(\"The number is even\")\n",
        "    else:\n",
        "        print(\"The number is odd\")\n",
        "OddEven()"
      ],
      "metadata": {
        "colab": {
          "base_uri": "https://localhost:8080/"
        },
        "id": "CzHs_3sAQ8YT",
        "outputId": "492bf2d3-02d5-4d71-b08a-c80da0205fa9"
      },
      "execution_count": null,
      "outputs": [
        {
          "output_type": "stream",
          "name": "stdout",
          "text": [
            "enter your number:67\n",
            "The number is odd\n"
          ]
        }
      ]
    },
    {
      "cell_type": "code",
      "source": [
        "def Eligible():\n",
        "    gender=input(\"enter your gender(male,female)\")\n",
        "    age=int(input(\"enter your age:\"))\n",
        "    if age>21 and gender==\"female\":\n",
        "        print(\"Eligible\")\n",
        "    elif age>25 and gender==\"male\":\n",
        "        print(\"eligible\")\n",
        "    else:\n",
        "        print(\"not eligible\")\n",
        "\n",
        "Eligible()\n"
      ],
      "metadata": {
        "colab": {
          "base_uri": "https://localhost:8080/"
        },
        "id": "mi71eB5_RBtO",
        "outputId": "f2933afe-69c0-41dc-a358-0e1b17818e29"
      },
      "execution_count": null,
      "outputs": [
        {
          "output_type": "stream",
          "name": "stdout",
          "text": [
            "enter your gender(male,female)male\n",
            "enter your age:12\n",
            "not eligible\n"
          ]
        }
      ]
    },
    {
      "cell_type": "code",
      "source": [
        "def percentage():\n",
        "    sub1=int(input(\"enter your subject 1:\"))\n",
        "    sub2=int(input(\"enter your subject 2:\"))\n",
        "    sub3=int(input(\"enter your subject 3:\"))\n",
        "    sub4=int(input(\"enter your subject 4:\"))\n",
        "    sub5=int(input(\"enter your subject 5:\"))\n",
        "    total=sub1+sub2+sub3+sub4+sub5\n",
        "    avg=total/5\n",
        "    print(\"subject 1: \",sub1)\n",
        "    print(\"subject 2: \",sub2)\n",
        "    print(\"subject 3: \",sub3)\n",
        "    print(\"subject 4: \",sub4)\n",
        "    print(\"subject 5: \",sub5)\n",
        "    print(\"total: \",total)\n",
        "    print(\"average: \",avg)\n",
        "\n",
        "percentage()\n"
      ],
      "metadata": {
        "colab": {
          "base_uri": "https://localhost:8080/"
        },
        "id": "HvkDh1Y_RG0F",
        "outputId": "70bad058-6ac7-4847-8ceb-e161bb433bce"
      },
      "execution_count": null,
      "outputs": [
        {
          "output_type": "stream",
          "name": "stdout",
          "text": [
            "enter your subject 1:56\n",
            "enter your subject 2:78\n",
            "enter your subject 3:89\n",
            "enter your subject 4:90\n",
            "enter your subject 5:78\n",
            "subject 1:  56\n",
            "subject 2:  78\n",
            "subject 3:  89\n",
            "subject 4:  90\n",
            "subject 5:  78\n",
            "total:  391\n",
            "average:  78.2\n"
          ]
        }
      ]
    },
    {
      "cell_type": "code",
      "source": [
        "def triangle():\n",
        "    h=int(input(\"enter your height of triangle:\"))\n",
        "    b=int(input(\"enter your breadth of triangle:\"))\n",
        "    c=int(input(\"enter your third of triangle:\"))\n",
        "    perimeter=h+b+c\n",
        "    area=0.5*h*b\n",
        "    print(\"area of triangle: \",area)\n",
        "    print(\"perimeter of triangle: \",perimeter)\n",
        "\n",
        "triangle()"
      ],
      "metadata": {
        "colab": {
          "base_uri": "https://localhost:8080/"
        },
        "id": "QSbMo_0YRN3o",
        "outputId": "0112efac-0d18-4b4c-a7f0-74189009ead5"
      },
      "execution_count": null,
      "outputs": [
        {
          "output_type": "stream",
          "name": "stdout",
          "text": [
            "enter your height of triangle:6\n",
            "enter your breadth of triangle:7\n",
            "enter your third of triangle:8\n",
            "area of triangle:  21.0\n",
            "perimeter of triangle:  21\n"
          ]
        }
      ]
    },
    {
      "cell_type": "code",
      "source": [
        "#class subfieldsAI\n",
        "class SubfieldsInAi:\n",
        "    def Subfields():\n",
        "        print(\"Sub-fields in AI are:\")\n",
        "        list=[\"machine learning\",\"neural networks\",\"vision\",\"robotics\",\"speech processing\",\"natural language processing\"]\n",
        "        for x in list:\n",
        "            print(x)\n",
        "\n",
        "SubfieldsInAi.Subfields()"
      ],
      "metadata": {
        "colab": {
          "base_uri": "https://localhost:8080/"
        },
        "id": "5VrHRfUkRWnS",
        "outputId": "17e4cf4b-950a-45af-e5b7-7cb65bcd9fcd"
      },
      "execution_count": null,
      "outputs": [
        {
          "output_type": "stream",
          "name": "stdout",
          "text": [
            "Sub-fields in AI are:\n",
            "machine learning\n",
            "neural networks\n",
            "vision\n",
            "robotics\n",
            "speech processing\n",
            "natural language processing\n"
          ]
        }
      ]
    },
    {
      "cell_type": "code",
      "source": [
        "#class to check odd or even\n",
        "class CheckOddEven:\n",
        "    def OddEven():\n",
        "        num=int(input(\"enter your number:\"))\n",
        "        if num%2==0:\n",
        "            print(\"The number is even\")\n",
        "        else:\n",
        "            print(\"The number is odd\")\n",
        "\n",
        "CheckOddEven.OddEven()"
      ],
      "metadata": {
        "colab": {
          "base_uri": "https://localhost:8080/"
        },
        "id": "wUy_y4xHRer8",
        "outputId": "c93ac1c4-00b3-4c9e-be69-bf89806e7299"
      },
      "execution_count": null,
      "outputs": [
        {
          "output_type": "stream",
          "name": "stdout",
          "text": [
            "enter your number:7\n",
            "The number is odd\n"
          ]
        }
      ]
    },
    {
      "cell_type": "code",
      "source": [
        "#check class to marriage is eligible\n",
        "class CheckEligible:\n",
        "    def Eligible():\n",
        "        gender=input(\"enter your gender(male,female)\")\n",
        "        age=int(input(\"enter your age:\"))\n",
        "        if age>21 and gender==\"female\":\n",
        "            print(\"Eligible\")\n",
        "        elif age>25 and gender==\"male\":\n",
        "            print(\"eligible\")\n",
        "        else:\n",
        "            print(\"not eligible\")\n",
        "\n",
        "CheckEligible.Eligible()"
      ],
      "metadata": {
        "colab": {
          "base_uri": "https://localhost:8080/"
        },
        "id": "dmStWxA-RkGW",
        "outputId": "0a5bf6b5-aeff-42e9-803e-57862b156d5c"
      },
      "execution_count": null,
      "outputs": [
        {
          "output_type": "stream",
          "name": "stdout",
          "text": [
            "enter your gender(male,female)female\n",
            "enter your age:34\n",
            "Eligible\n"
          ]
        }
      ]
    },
    {
      "cell_type": "code",
      "source": [
        "#class to calculate total average of 5 subjects\n",
        "class Calculate:\n",
        "    def percentage():\n",
        "        sub1=int(input(\"enter your subject 1:\"))\n",
        "        sub2=int(input(\"enter your subject 2:\"))\n",
        "        sub3=int(input(\"enter your subject 3:\"))\n",
        "        sub4=int(input(\"enter your subject 4:\"))\n",
        "        sub5=int(input(\"enter your subject 5:\"))\n",
        "        total=sub1+sub2+sub3+sub4+sub5\n",
        "        avg=total/5\n",
        "        print(\"subject 1: \",sub1)\n",
        "        print(\"subject 2: \",sub2)\n",
        "        print(\"subject 3: \",sub3)\n",
        "        print(\"subject 4: \",sub4)\n",
        "        print(\"subject 5: \",sub5)\n",
        "        print(\"total: \",total)\n",
        "        print(\"average: \",avg)\n",
        "\n",
        "Calculate.percentage()"
      ],
      "metadata": {
        "colab": {
          "base_uri": "https://localhost:8080/"
        },
        "id": "5nuQ0fEbRqii",
        "outputId": "be312b60-7652-4df0-e288-49c0c06db759"
      },
      "execution_count": null,
      "outputs": [
        {
          "output_type": "stream",
          "name": "stdout",
          "text": [
            "enter your subject 1:45\n",
            "enter your subject 2:56\n",
            "enter your subject 3:67\n",
            "enter your subject 4:78\n",
            "enter your subject 5:89\n",
            "subject 1:  45\n",
            "subject 2:  56\n",
            "subject 3:  67\n",
            "subject 4:  78\n",
            "subject 5:  89\n",
            "total:  335\n",
            "average:  67.0\n"
          ]
        }
      ]
    },
    {
      "cell_type": "code",
      "source": [
        "#class tocalculate area perimeter of triangle\n",
        "class Triangle:\n",
        "    def calculate_area_perimeter():\n",
        "        h=int(input(\"enter your height of triangle:\"))\n",
        "        b=int(input(\"enter your breadth of triangle:\"))\n",
        "        c=int(input(\"enter your third of triangle:\"))\n",
        "        perimeter=h+b+c\n",
        "        area=0.5*h*b\n",
        "        print(\"area of triangle: \",area)\n",
        "        print(\"perimeter of triangle: \",perimeter)\n",
        "\n",
        "Triangle.calculate_area_perimeter()\n"
      ],
      "metadata": {
        "colab": {
          "base_uri": "https://localhost:8080/"
        },
        "id": "oF5jqjCZRwFD",
        "outputId": "aae21f6e-07aa-4744-97a6-e07088b61ce8"
      },
      "execution_count": null,
      "outputs": [
        {
          "output_type": "stream",
          "name": "stdout",
          "text": [
            "enter your height of triangle:6\n",
            "enter your breadth of triangle:4\n",
            "enter your third of triangle:56\n",
            "area of triangle:  12.0\n",
            "perimeter of triangle:  66\n"
          ]
        }
      ]
    },
    {
      "cell_type": "code",
      "source": [],
      "metadata": {
        "id": "RqXP9tRHR5YC"
      },
      "execution_count": null,
      "outputs": []
    }
  ]
}